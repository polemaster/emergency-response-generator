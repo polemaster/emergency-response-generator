{
 "cells": [
  {
   "cell_type": "code",
   "execution_count": 1,
   "metadata": {},
   "outputs": [],
   "source": [
    "from datetime import datetime\n",
    "from exporter import Exporter\n",
    "\n",
    "from generator import Generator\n",
    "import numpy as np\n",
    "import random\n",
    "from utils.constants import INITIAL_COUNTS\n",
    "\n",
    "import time\n",
    "\n",
    "SEED = 42\n",
    "np.random.seed(SEED)\n",
    "random.seed(SEED)"
   ]
  },
  {
   "cell_type": "code",
   "execution_count": 2,
   "metadata": {},
   "outputs": [
    {
     "name": "stdout",
     "output_type": "stream",
     "text": [
      "Time: 264.0486788749695\n"
     ]
    }
   ],
   "source": [
    "start = time.time()\n",
    "\n",
    "startdate = datetime(2014, 1, 1)\n",
    "enddate = datetime(2017, 1, 1)\n",
    "\n",
    "generator = Generator(INITIAL_COUNTS, startdate, 600, 16)\n",
    "generator.generate_initial_data()\n",
    "generator.assign_teams()\n",
    "\n",
    "generator.simulate(startdate, enddate)\n",
    "\n",
    "end = time.time()\n",
    "print(\"Time:\", end - start)"
   ]
  },
  {
   "cell_type": "code",
   "execution_count": 3,
   "metadata": {},
   "outputs": [],
   "source": [
    "exp = Exporter(generator, \"generated_data_T1\")\n",
    "exp.export_all()"
   ]
  },
  {
   "cell_type": "code",
   "execution_count": 4,
   "metadata": {},
   "outputs": [
    {
     "name": "stdout",
     "output_type": "stream",
     "text": [
      "Time: 257.24141001701355\n"
     ]
    }
   ],
   "source": [
    "start = time.time()\n",
    "\n",
    "startdate = datetime(2017, 1, 1)\n",
    "enddate = datetime(2020, 1, 1)\n",
    "\n",
    "generator.simulate(startdate, enddate)\n",
    "\n",
    "end = time.time()\n",
    "print(\"Time:\", end - start)"
   ]
  },
  {
   "cell_type": "code",
   "execution_count": 5,
   "metadata": {},
   "outputs": [],
   "source": [
    "exp = Exporter(generator, \"generated_data_T2\")\n",
    "exp.export_all()"
   ]
  },
  {
   "cell_type": "markdown",
   "metadata": {},
   "source": [
    "#### Debugging"
   ]
  },
  {
   "cell_type": "code",
   "execution_count": 6,
   "metadata": {},
   "outputs": [
    {
     "name": "stdout",
     "output_type": "stream",
     "text": [
      "190 160 631704 50480640 828857 1211155 818691 883485\n"
     ]
    }
   ],
   "source": [
    "print(len(generator.officers), len(generator.vehicles), len(generator.incidents), len(generator.vehicle_positions), len(generator.teams), len(generator.team_officer_assignments), len(generator.incident_team_assignments), len(generator.victim_groups))\n",
    "\n",
    "# incident = generator.incidents[184]\n",
    "# print(incident.report_datetime, incident.arrival_datetime)\n",
    "# print(incident.report_datetime - incident.arrival_datetime)\n",
    "\n",
    "count = 0\n",
    "\n",
    "# for inc in generator.incidents:\n",
    "#   # if inc.arrival_datetime and inc.report_datetime > inc.arrival_datetime:\n",
    "  \n",
    "#   difference = None\n",
    "#   if inc.arrival_datetime and inc.report_datetime:\n",
    "#     difference = inc.arrival_datetime - inc.report_datetime\n",
    "    \n",
    "#     # print(difference, inc.victim_satisfaction)\n",
    "    \n",
    "#   if difference and difference.seconds > 3600:\n",
    "#     count += 1\n",
    "    \n",
    "# print(count)"
   ]
  },
  {
   "cell_type": "code",
   "execution_count": 7,
   "metadata": {},
   "outputs": [
    {
     "data": {
      "text/plain": [
       "datetime.datetime(2020, 1, 1, 0, 0)"
      ]
     },
     "execution_count": 7,
     "metadata": {},
     "output_type": "execute_result"
    }
   ],
   "source": [
    "generator.current_time"
   ]
  },
  {
   "cell_type": "code",
   "execution_count": 8,
   "metadata": {},
   "outputs": [],
   "source": [
    "\n",
    "# for assignment in generator.team_officer_assignments:\n",
    "#   print(assignment.team_id, assignment.officer_id)\n"
   ]
  }
 ],
 "metadata": {
  "kernelspec": {
   "display_name": "env_torch",
   "language": "python",
   "name": "python3"
  },
  "language_info": {
   "codemirror_mode": {
    "name": "ipython",
    "version": 3
   },
   "file_extension": ".py",
   "mimetype": "text/x-python",
   "name": "python",
   "nbconvert_exporter": "python",
   "pygments_lexer": "ipython3",
   "version": "3.10.13"
  }
 },
 "nbformat": 4,
 "nbformat_minor": 2
}
