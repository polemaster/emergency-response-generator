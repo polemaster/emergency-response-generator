{
 "cells": [
  {
   "cell_type": "code",
   "execution_count": 1,
   "metadata": {},
   "outputs": [],
   "source": [
    "from datetime import datetime\n",
    "from exporter import Exporter\n",
    "\n",
    "from generator import Generator\n",
    "import numpy as np\n",
    "import random\n",
    "from utils.constants import INITIAL_COUNTS\n",
    "\n",
    "import time\n",
    "\n",
    "SEED = 42\n",
    "np.random.seed(SEED)\n",
    "random.seed(SEED)"
   ]
  },
  {
   "cell_type": "code",
   "execution_count": 2,
   "metadata": {},
   "outputs": [
    {
     "name": "stdout",
     "output_type": "stream",
     "text": [
      "Simulation ended at 2025-11-06 15:50:00\n",
      "Time: 322.3189399242401\n"
     ]
    }
   ],
   "source": [
    "start = time.time()\n",
    "\n",
    "startdate = datetime(2023, 1, 1)\n",
    "\n",
    "generator = Generator(INITIAL_COUNTS, startdate, 600, 16)\n",
    "generator.generate_initial_data()\n",
    "generator.assign_teams()\n",
    "\n",
    "generator.simulate(startdate, 300000)\n",
    "\n",
    "end = time.time()\n",
    "print(\"Time:\", end - start)"
   ]
  },
  {
   "cell_type": "code",
   "execution_count": 3,
   "metadata": {},
   "outputs": [],
   "source": [
    "exp = Exporter(generator, \"generated_data_T1\")\n",
    "exp.export_all()"
   ]
  }
 ],
 "metadata": {
  "kernelspec": {
   "display_name": "env_torch",
   "language": "python",
   "name": "python3"
  },
  "language_info": {
   "codemirror_mode": {
    "name": "ipython",
    "version": 3
   },
   "file_extension": ".py",
   "mimetype": "text/x-python",
   "name": "python",
   "nbconvert_exporter": "python",
   "pygments_lexer": "ipython3",
   "version": "3.10.13"
  }
 },
 "nbformat": 4,
 "nbformat_minor": 2
}
