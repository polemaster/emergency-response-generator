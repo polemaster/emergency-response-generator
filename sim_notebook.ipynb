{
 "cells": [
  {
   "cell_type": "code",
   "execution_count": 1,
   "metadata": {},
   "outputs": [],
   "source": [
    "from datetime import datetime\n",
    "\n",
    "from generator import Generator\n",
    "from utils.constants import INITIAL_COUNTS\n",
    "\n",
    "import time"
   ]
  },
  {
   "cell_type": "code",
   "execution_count": 2,
   "metadata": {},
   "outputs": [
    {
     "name": "stdout",
     "output_type": "stream",
     "text": [
      "Time: 6.619487285614014\n"
     ]
    }
   ],
   "source": [
    "start = time.time()\n",
    "\n",
    "startdate = datetime(2023, 1, 1)\n",
    "enddate = datetime(2023, 1, 31)\n",
    "\n",
    "generator = Generator(INITIAL_COUNTS, startdate, 600, 16)\n",
    "generator.generate_initial_data()\n",
    "\n",
    "generator.assign_teams()\n",
    "\n",
    "generator.simulate(startdate, enddate)\n",
    "\n",
    "end = time.time()\n",
    "print(\"Time:\", end - start)"
   ]
  },
  {
   "cell_type": "code",
   "execution_count": 3,
   "metadata": {},
   "outputs": [
    {
     "name": "stdout",
     "output_type": "stream",
     "text": [
      "190 160 8690 11264 691200\n",
      "1019\n"
     ]
    }
   ],
   "source": [
    "print(len(generator.officers), len(generator.vehicles), len(generator.incidents), len(generator.teams), len(generator.vehicle_positions))\n",
    "\n",
    "# incident = generator.incidents[184]\n",
    "# print(incident.report_datetime, incident.arrival_datetime)\n",
    "# print(incident.report_datetime - incident.arrival_datetime)\n",
    "\n",
    "count = 0\n",
    "\n",
    "for inc in generator.incidents:\n",
    "  # if inc.arrival_datetime and inc.report_datetime > inc.arrival_datetime:\n",
    "  \n",
    "  difference = None\n",
    "  if inc.arrival_datetime and inc.report_datetime:\n",
    "    difference = inc.arrival_datetime - inc.report_datetime\n",
    "    \n",
    "    # print(difference, inc.victim_satisfaction)\n",
    "    \n",
    "  if difference and difference.seconds > 3600:\n",
    "    count += 1\n",
    "    \n",
    "print(count)"
   ]
  }
 ],
 "metadata": {
  "kernelspec": {
   "display_name": "env_torch",
   "language": "python",
   "name": "python3"
  },
  "language_info": {
   "codemirror_mode": {
    "name": "ipython",
    "version": 3
   },
   "file_extension": ".py",
   "mimetype": "text/x-python",
   "name": "python",
   "nbconvert_exporter": "python",
   "pygments_lexer": "ipython3",
   "version": "3.10.13"
  }
 },
 "nbformat": 4,
 "nbformat_minor": 2
}
